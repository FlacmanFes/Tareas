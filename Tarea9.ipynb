{
  "nbformat": 4,
  "nbformat_minor": 0,
  "metadata": {
    "colab": {
      "name": "Tarea9.ipynb",
      "provenance": []
    },
    "kernelspec": {
      "name": "python3",
      "display_name": "Python 3"
    },
    "language_info": {
      "name": "python"
    }
  },
  "cells": [
    {
      "cell_type": "code",
      "metadata": {
        "id": "3q-GWVVPmU2_"
      },
      "source": [
        "class StackADT:\n",
        "    def __init__( self ):\n",
        "        self.__data= list()\n",
        "\n",
        "    # regresa true En caso de que la íla esté vacia \n",
        "    def is_empty( self ):\n",
        "         return len( self.__data )==0\n",
        "        \n",
        "    def get_length( self ):\n",
        "        return len( self.__data)\n",
        "\n",
        "    def pop( self ):\n",
        "        if self.is_empty():\n",
        "            print(\"Pila vacia, no hay nada que sacar\")\n",
        "        else:\n",
        "            return self.__data.pop()\n",
        "\n",
        "    def peek( self ):\n",
        "        if self.is_empty():\n",
        "            print(\"Pila vacia, no hay nada que sacar\")\n",
        "        else:\n",
        "            return self.__data[ -1 ]\n",
        "\n",
        "    def push( self, value ):\n",
        "        self.__data.append( value )\n",
        "    \n",
        "    def to_string( self ):\n",
        "        for item in self.__data[::-1]:\n",
        "            print(f\"|  { item }   |\")"
      ],
      "execution_count": 4,
      "outputs": []
    },
    {
      "cell_type": "code",
      "metadata": {
        "colab": {
          "base_uri": "https://localhost:8080/"
        },
        "id": "aggFLe9qmYxr",
        "outputId": "f5ef4c04-9db3-4a1f-fe10-95fcb08f21d5"
      },
      "source": [
        "!juegovida.txt"
      ],
      "execution_count": 5,
      "outputs": [
        {
          "output_type": "stream",
          "name": "stdout",
          "text": [
            "/bin/bash: juegovida.txt: command not found\n"
          ]
        }
      ]
    },
    {
      "cell_type": "code",
      "metadata": {
        "colab": {
          "base_uri": "https://localhost:8080/"
        },
        "id": "sOwzJ-PHmbea",
        "outputId": "5a176d5a-f6d7-4bfa-e9eb-656fe4513a65"
      },
      "source": [
        "entrada= open('Juego.txt' , 'rt')\n",
        "codigo = entrada.read()\n",
        "pilaControl= StackADT()\n",
        "pilaControl.push(\"#\")\n",
        "\n",
        "for letra in codigo:\n",
        "    if letra == '{':\n",
        "        pilaControl.push('{')\n",
        "    elif letra =='}':\n",
        "        if pilaControl.peek()=='#':\n",
        "            pilaControl.push('{')\n",
        "            \n",
        "        else:\n",
        "            Afuera= pilaControl.pop()\n",
        "#Detener\n",
        "    elif letra =='(':\n",
        "        pilaControl.push('(')\n",
        "    elif letra ==')':\n",
        "         if pilaControl.peek()=='#':\n",
        "             pilaControl.push(')')\n",
        "             break\n",
        "         else:\n",
        "             Afuera=pilaControl.pop()\n",
        "    else:\n",
        "        pass\n",
        "if pilaControl.peek()== '()':\n",
        "    print(\"El codigo esta balanceado\")\n",
        "else:\n",
        "    print(\"El codigo no esta bien balanceado\")\n",
        "    "
      ],
      "execution_count": 7,
      "outputs": [
        {
          "output_type": "stream",
          "name": "stdout",
          "text": [
            "El codigo no esta bien balanceado\n"
          ]
        }
      ]
    }
  ]
}