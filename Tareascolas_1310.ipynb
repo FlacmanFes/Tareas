{
  "nbformat": 4,
  "nbformat_minor": 0,
  "metadata": {
    "colab": {
      "name": "colas_1310.ipynb",
      "provenance": []
    },
    "kernelspec": {
      "name": "python3",
      "display_name": "Python 3"
    },
    "language_info": {
      "name": "python"
    }
  },
  "cells": [
    {
      "cell_type": "code",
      "metadata": {
        "id": "rql65rdfJ9-y"
      },
      "source": [
        "class Queue:\n",
        "    def __init__( self ):\n",
        "        self.data = []\n",
        "\n",
        "    def is_empty( self ):\n",
        "        return len( self.data ) == 0\n",
        "\n",
        "    def length( self ):\n",
        "        return len( self.data )\n",
        "\n",
        "    def enqueue( self , value ):\n",
        "        self.data.append( value )\n",
        "\n",
        "    def dequeue( self ):\n",
        "        return self.data.pop(0)\n",
        "    def to_string( self ):\n",
        "        for elem in self.data:\n",
        "            print(f\"| { elem }| <-- \" , end=\"\" )\n",
        "            print(\"\")\n"
      ],
      "execution_count": null,
      "outputs": []
    },
    {
      "cell_type": "code",
      "metadata": {
        "colab": {
          "base_uri": "https://localhost:8080/"
        },
        "id": "ijLx4PfAPU0G",
        "outputId": "fd499249-96d0-44ee-f1e6-94772d589feb"
      },
      "source": [
        "cola = Queue()\n",
        "print(\"Esta vacio??: \" , cola.is_empty())\n",
        "print(\"Numero de elementos = \" , cola.length() )\n",
        "cola.enqueue(10)\n",
        "cola.enqueue(20)\n",
        "cola.enqueue(30)\n",
        "print(\"Esta vacio??: \" , cola.is_empty())\n",
        "print(\"Numero de elementos = \" , cola.length() )\n",
        "cola.enqueue(40)\n",
        "cola.enqueue(50)\n",
        "cola.enqueue(60)\n",
        "cola.to_string()\n",
        "siguiente = cola.dequeue()\n",
        "print(\"Atendiendo a:\" , siguiente)\n",
        "cola.to_string()"
      ],
      "execution_count": null,
      "outputs": [
        {
          "output_type": "stream",
          "name": "stdout",
          "text": [
            "Esta vacio??:  True\n",
            "Numero de elementos =  0\n",
            "Esta vacio??:  False\n",
            "Numero de elementos =  3\n",
            "| 10| <-- \n",
            "| 20| <-- \n",
            "| 30| <-- \n",
            "| 40| <-- \n",
            "| 50| <-- \n",
            "| 60| <-- \n",
            "Atendiendo a: 10\n",
            "| 20| <-- \n",
            "| 30| <-- \n",
            "| 40| <-- \n",
            "| 50| <-- \n",
            "| 60| <-- \n"
          ]
        }
      ]
    },
    {
      "cell_type": "code",
      "metadata": {
        "colab": {
          "base_uri": "https://localhost:8080/"
        },
        "id": "JfhRXqjQMi1N",
        "outputId": "08b63d0c-1cea-4d60-e0d5-57dfb2953ec1"
      },
      "source": [
        "help(list.pop)"
      ],
      "execution_count": null,
      "outputs": [
        {
          "output_type": "stream",
          "name": "stdout",
          "text": [
            "Help on method_descriptor:\n",
            "\n",
            "pop(self, index=-1, /)\n",
            "    Remove and return item at index (default last).\n",
            "    \n",
            "    Raises IndexError if list is empty or index is out of range.\n",
            "\n"
          ]
        }
      ]
    },
    {
      "cell_type": "code",
      "metadata": {
        "id": "CJQyKG7bZCsG"
      },
      "source": [
        "#EjercicioDeTarea\n",
        "class PrioridadQueueADT:\n",
        "\n",
        "    def __init__( self ):\n",
        "        self.data = []\n",
        "    \n",
        "    def is_empty( self ):\n",
        "        return len( self.data ) == 0\n",
        "    \n",
        "    def length( self ):\n",
        "        return len( self.data )\n",
        "\n",
        "    def enqueue( self, value ):\n",
        "        dato = (value)\n",
        "        conta = -1\n",
        "        continuar = True\n",
        "\n",
        "        if self.is_empty():\n",
        "            self.data.append( dato )\n",
        "\n",
        "        else: \n",
        "            while continuar:\n",
        "                conta += 1\n",
        "                \n",
        "                if conta == self.length(): \n",
        "                    continuar = False\n",
        "\n",
        "                elif dato[0] < self.data[conta][0]: \n",
        "                    continuar = False\n",
        "\n",
        "            self.data.insert(conta, dato)\n",
        "\n",
        "    def dequeue( self ):\n",
        "        return self.data.pop(0)\n",
        "    \n",
        "    def to_string( self ):\n",
        "        for elem in self.data:\n",
        "            print(f\"|{elem}| <-- \", end= \"\")\n",
        "        print(\"\")"
      ],
      "execution_count": 1,
      "outputs": []
    },
    {
      "cell_type": "code",
      "metadata": {
        "colab": {
          "base_uri": "https://localhost:8080/",
          "height": 384
        },
        "id": "x5O4w45hZIrs",
        "outputId": "33dc2338-3527-4b4c-a20b-75982dc43030"
      },
      "source": [
        "cola = PrioridadQueueADT()\n",
        "\n",
        "print( \"Cola con la Prioridad NO Acotada: \")\n",
        "\n",
        "cola.enqueue(4)\n",
        "\n",
        "cola.to_string()\n",
        "\n",
        "cola.enqueue(2)\n",
        "\n",
        "cola.to_string()\n",
        "\n",
        "cola.enqueue(5)\n",
        "\n",
        "cola.to_string()\n",
        "\n",
        "cola.enqueue(4)\n",
        "\n",
        "cola.to_string()\n",
        "\n",
        "cola.enqueue(4)\n",
        "\n",
        "cola.to_string()\n",
        "\n",
        "cola.enqueue(4)\n",
        "\n",
        "cola.to_string()\n",
        "\n",
        "cola.enqueue(2)\n",
        "\n",
        "cola.to_string()\n",
        "\n",
        "cola.enqueue(3)\n",
        "\n",
        "cola.to_string()\n",
        "\n",
        "cola.enqueue(1)\n",
        "\n",
        "cola.to_string()\n",
        "\n",
        "cola.enqueue(3)\n",
        "\n",
        "cola.to_string()\n",
        "\n",
        "cola.to_string()\n",
        "print(\"¿Está vacío? \", cola.is_empty())\n",
        "print(\"El número de elementos:\", cola.length())\n",
        "\n",
        "siguiente = cola.dequeue()\n",
        "print(\"Proximo evacuado: \", siguiente)\n",
        "siguiente = cola.dequeue()\n",
        "print(\"Proximo evacuado: \", siguiente)\n",
        "siguiente = cola.dequeue()\n",
        "print(\"Proximo evacuado: \", siguiente)\n",
        "siguiente = cola.dequeue()\n",
        "print(\"Proximo evacuado: \", siguiente)\n",
        "siguiente = cola.dequeue()\n",
        "print(\"Proximo evacuado: \", siguiente)\n",
        "\n",
        "print(\"En espera: \")\n",
        "cola.to_string()"
      ],
      "execution_count": 2,
      "outputs": [
        {
          "output_type": "stream",
          "name": "stdout",
          "text": [
            "Cola con la Prioridad NO Acotada: \n",
            "|4| <-- \n"
          ]
        },
        {
          "output_type": "error",
          "ename": "TypeError",
          "evalue": "ignored",
          "traceback": [
            "\u001b[0;31m---------------------------------------------------------------------------\u001b[0m",
            "\u001b[0;31mTypeError\u001b[0m                                 Traceback (most recent call last)",
            "\u001b[0;32m<ipython-input-2-09d3176dcbca>\u001b[0m in \u001b[0;36m<module>\u001b[0;34m()\u001b[0m\n\u001b[1;32m      7\u001b[0m \u001b[0mcola\u001b[0m\u001b[0;34m.\u001b[0m\u001b[0mto_string\u001b[0m\u001b[0;34m(\u001b[0m\u001b[0;34m)\u001b[0m\u001b[0;34m\u001b[0m\u001b[0;34m\u001b[0m\u001b[0m\n\u001b[1;32m      8\u001b[0m \u001b[0;34m\u001b[0m\u001b[0m\n\u001b[0;32m----> 9\u001b[0;31m \u001b[0mcola\u001b[0m\u001b[0;34m.\u001b[0m\u001b[0menqueue\u001b[0m\u001b[0;34m(\u001b[0m\u001b[0;36m2\u001b[0m\u001b[0;34m)\u001b[0m\u001b[0;34m\u001b[0m\u001b[0;34m\u001b[0m\u001b[0m\n\u001b[0m\u001b[1;32m     10\u001b[0m \u001b[0;34m\u001b[0m\u001b[0m\n\u001b[1;32m     11\u001b[0m \u001b[0mcola\u001b[0m\u001b[0;34m.\u001b[0m\u001b[0mto_string\u001b[0m\u001b[0;34m(\u001b[0m\u001b[0;34m)\u001b[0m\u001b[0;34m\u001b[0m\u001b[0;34m\u001b[0m\u001b[0m\n",
            "\u001b[0;32m<ipython-input-1-87c519d17924>\u001b[0m in \u001b[0;36menqueue\u001b[0;34m(self, value)\u001b[0m\n\u001b[1;32m     26\u001b[0m                     \u001b[0mcontinuar\u001b[0m \u001b[0;34m=\u001b[0m \u001b[0;32mFalse\u001b[0m\u001b[0;34m\u001b[0m\u001b[0;34m\u001b[0m\u001b[0m\n\u001b[1;32m     27\u001b[0m \u001b[0;34m\u001b[0m\u001b[0m\n\u001b[0;32m---> 28\u001b[0;31m                 \u001b[0;32melif\u001b[0m \u001b[0mdato\u001b[0m\u001b[0;34m[\u001b[0m\u001b[0;36m0\u001b[0m\u001b[0;34m]\u001b[0m \u001b[0;34m<\u001b[0m \u001b[0mself\u001b[0m\u001b[0;34m.\u001b[0m\u001b[0mdata\u001b[0m\u001b[0;34m[\u001b[0m\u001b[0mconta\u001b[0m\u001b[0;34m]\u001b[0m\u001b[0;34m[\u001b[0m\u001b[0;36m0\u001b[0m\u001b[0;34m]\u001b[0m\u001b[0;34m:\u001b[0m\u001b[0;34m\u001b[0m\u001b[0;34m\u001b[0m\u001b[0m\n\u001b[0m\u001b[1;32m     29\u001b[0m                     \u001b[0mcontinuar\u001b[0m \u001b[0;34m=\u001b[0m \u001b[0;32mFalse\u001b[0m\u001b[0;34m\u001b[0m\u001b[0;34m\u001b[0m\u001b[0m\n\u001b[1;32m     30\u001b[0m \u001b[0;34m\u001b[0m\u001b[0m\n",
            "\u001b[0;31mTypeError\u001b[0m: 'int' object is not subscriptable"
          ]
        }
      ]
    },
    {
      "cell_type": "code",
      "metadata": {
        "id": "gA9fUNlaZNk0"
      },
      "source": [
        "class AcotadaPriorityQueueADT: \n",
        "    def __init__( self, niveles ):\n",
        "        self.data = [QueueADT() for x in range(niveles) ]\n",
        "        self.size = 0\n",
        "        self.niveles = niveles\n",
        "\n",
        "    def is_empty( self ):\n",
        "        if self.size == 0:\n",
        "            return True\n",
        "        else:\n",
        "            return False\n",
        "\n",
        "    def length( self ):\n",
        "        return self.size\n",
        "\n",
        "    def enqueue( self, value ):\n",
        "        if value < 0 or value > self.niveles:\n",
        "            print(f\"Ingrese  prioridad entre 1 y {self.niveles}\")\n",
        "        else:\n",
        "            self.data[value - 1].enqueue( value )\n",
        "            self.size += 1\n",
        "\n",
        "    def dequeue( self ):\n",
        "        if self.size != 0:\n",
        "\n",
        "            i = 0\n",
        "            while self.data[i].is_empty():  \n",
        "                i += 1\n",
        "            \n",
        "            self.size -= 1\n",
        "            return self.data[i].dequeue()\n",
        "            \n",
        "        else:\n",
        "            print(\"Cola vacía\")\n",
        "\n",
        "    \n",
        "    def to_string( self ):\n",
        "        for i in range(self.niveles):\n",
        "            print(f\"Prioridad {i + 1}: \",end = \"\")\n",
        "            self.data[i].to_string()"
      ],
      "execution_count": 3,
      "outputs": []
    },
    {
      "cell_type": "code",
      "metadata": {
        "colab": {
          "base_uri": "https://localhost:8080/",
          "height": 129
        },
        "id": "mjGiqimjZQac",
        "outputId": "02de2946-ef68-4900-a825-fb305ca203ff"
      },
      "source": [
        "ac = AcotadaPriorityQueueADT( 5 )\n",
        "\n",
        "ac.enqueue(4)\n",
        "ac.enqueue(2)\n",
        "ac.enqueue(5)\n",
        "ac.enqueue(4)\n",
        "ac.enqueue(4)\n",
        "ac.enqueue(4)\n",
        "ac.enqueue(2)\n",
        "ac.enqueue(3)\n",
        "ac.enqueue(1)\n",
        "ac.enqueue(3,)\n",
        "ac.to_string()\n",
        "\n",
        "\n",
        "print(\"Evacuando...\")\n",
        "print(\"Evacuando:\",ac.dequeue())\n",
        "print(\"Evacuando:\",ac.dequeue())\n",
        "print(\"Evacuando:\",ac.dequeue())\n",
        "print(\"Evacuando:\",ac.dequeue())\n",
        "print(\"Evacuando:\",ac.dequeue())\n",
        "\n",
        "print(\"Personas esperando evacuación: \")\n",
        "ac.to_string()\n",
        "\n",
        "print(\"¿Está vacía? =\", ac.is_empty() )\n",
        "print(\"Numero de elementos:\", ac.length())\n",
        "Prioridad 1: |1| <-- \n",
        "Prioridad 2: |2| <-- |2| <-- \n",
        "Prioridad 3: |3| <-- |3| <-- \n",
        "Prioridad 4: |4| <-- |4| <-- |4| <-- |4| <-- \n",
        "Prioridad 5: |5| <-- \n",
        "Evacuando...\n",
        "Evacuando: 1\n",
        "Evacuando: 2\n",
        "Evacuando: 2\n",
        "Evacuando: 3\n",
        "Evacuando: 3\n",
        "Personas esperando evacuación: \n",
        "Prioridad 1: \n",
        "Prioridad 2: \n",
        "Prioridad 3: \n",
        "Prioridad 4: |4| <-- |4| <-- |4| <-- |4| <-- \n",
        "Prioridad 5: |5| <-- \n",
        "¿Está vacía? = False\n",
        "Numero de elementos: 5"
      ],
      "execution_count": 4,
      "outputs": [
        {
          "output_type": "error",
          "ename": "SyntaxError",
          "evalue": "ignored",
          "traceback": [
            "\u001b[0;36m  File \u001b[0;32m\"<ipython-input-4-e5563ade4316>\"\u001b[0;36m, line \u001b[0;32m28\u001b[0m\n\u001b[0;31m    Prioridad 1: |1| <--\u001b[0m\n\u001b[0m              ^\u001b[0m\n\u001b[0;31mSyntaxError\u001b[0m\u001b[0;31m:\u001b[0m invalid syntax\n"
          ]
        }
      ]
    },
    {
      "cell_type": "code",
      "metadata": {
        "id": "gWz-LYHhZ772"
      },
      "source": [
        "#Diego Noel Serrano Quiroz"
      ],
      "execution_count": null,
      "outputs": []
    }
  ]
}